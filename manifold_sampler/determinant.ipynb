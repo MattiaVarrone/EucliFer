{
 "cells": [
  {
   "cell_type": "code",
   "execution_count": 1,
   "metadata": {
    "collapsed": true
   },
   "outputs": [],
   "source": [
    "import numpy as np\n",
    "from plot_3D import *"
   ]
  },
  {
   "cell_type": "code",
   "execution_count": 2,
   "outputs": [
    {
     "name": "stdout",
     "output_type": "stream",
     "text": [
      "CPU times: total: 62.5 ms\n",
      "Wall time: 12.6 ms\n",
      "CPU times: total: 62.5 ms\n",
      "Wall time: 11 ms\n",
      "(1000, 1000)\n",
      "works = True\n",
      "(1.0, 5900.254478104478)\n",
      "5900.254478105461\n",
      "[[ 3.14294913e+01  0.00000000e+00  0.00000000e+00 ...  0.00000000e+00\n",
      "   0.00000000e+00  0.00000000e+00]\n",
      " [-6.98413624e-01  3.17129419e+01  0.00000000e+00 ...  0.00000000e+00\n",
      "   0.00000000e+00  0.00000000e+00]\n",
      " [-8.46305999e-01 -5.59481055e-01  3.16463733e+01 ...  0.00000000e+00\n",
      "   0.00000000e+00  0.00000000e+00]\n",
      " ...\n",
      " [-2.67283167e-01  2.42786505e-01 -1.87029299e+00 ...  1.51967383e+00\n",
      "   0.00000000e+00  0.00000000e+00]\n",
      " [ 4.93089200e-01 -1.00506054e+00 -7.34948948e-01 ...  1.24444621e-01\n",
      "   8.09869063e-01  0.00000000e+00]\n",
      " [-1.82501273e+00 -3.02729980e-02 -8.66344479e-01 ...  2.96055510e-01\n",
      "  -1.82583014e+00  2.33155377e-01]]\n"
     ]
    }
   ],
   "source": [
    "A = np.random.normal(size=(1000,1000))\n",
    "B = np.matmul(A.T,A)\n",
    "%time C = np.linalg.cholesky(B)\n",
    "%time np.linalg.slogdet(B)\n",
    "print(C.shape)\n",
    "works=np.allclose(np.matmul(C,C.T), B)\n",
    "print(f'{works = }')\n",
    "print(np.linalg.slogdet(B))\n",
    "print(np.linalg.slogdet(C)[1]*2)\n",
    "print(C)"
   ],
   "metadata": {
    "collapsed": false,
    "pycharm": {
     "name": "#%%\n"
    }
   }
  },
  {
   "cell_type": "code",
   "execution_count": 2,
   "outputs": [],
   "source": [],
   "metadata": {
    "collapsed": false,
    "pycharm": {
     "name": "#%%\n"
    }
   }
  },
  {
   "cell_type": "code",
   "execution_count": 12,
   "outputs": [],
   "source": [
    "m = Manifold(102)"
   ],
   "metadata": {
    "collapsed": false,
    "pycharm": {
     "name": "#%%\n"
    }
   }
  },
  {
   "cell_type": "code",
   "execution_count": 23,
   "outputs": [
    {
     "name": "stdout",
     "output_type": "stream",
     "text": [
      "CPU times: total: 984 ms\n",
      "Wall time: 990 ms\n"
     ]
    }
   ],
   "source": [
    "%time m.sweep(100, 1, [\"gravity\"])"
   ],
   "metadata": {
    "collapsed": false,
    "pycharm": {
     "name": "#%%\n"
    }
   }
  },
  {
   "cell_type": "code",
   "execution_count": 4,
   "outputs": [],
   "source": [],
   "metadata": {
    "collapsed": false,
    "pycharm": {
     "name": "#%%\n"
    }
   }
  }
 ],
 "metadata": {
  "kernelspec": {
   "display_name": "Python 3",
   "language": "python",
   "name": "python3"
  },
  "language_info": {
   "codemirror_mode": {
    "name": "ipython",
    "version": 2
   },
   "file_extension": ".py",
   "mimetype": "text/x-python",
   "name": "python",
   "nbconvert_exporter": "python",
   "pygments_lexer": "ipython2",
   "version": "2.7.6"
  }
 },
 "nbformat": 4,
 "nbformat_minor": 0
}