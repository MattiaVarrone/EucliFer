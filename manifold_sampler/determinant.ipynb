{
 "cells": [
  {
   "cell_type": "code",
   "execution_count": 34,
   "metadata": {
    "collapsed": true
   },
   "outputs": [],
   "source": [
    "import numpy as np\n",
    "from plot_3D import *"
   ]
  },
  {
   "cell_type": "code",
   "execution_count": 39,
   "outputs": [
    {
     "name": "stdout",
     "output_type": "stream",
     "text": [
      "CPU times: total: 62.5 ms\n",
      "Wall time: 17 ms\n",
      "(1000, 1000)\n",
      "works = True\n",
      "(1.0, 5905.798673175573)\n",
      "5905.7986731756655\n",
      "[[30.75413953  0.          0.         ...  0.          0.\n",
      "   0.        ]\n",
      " [-2.44252464 32.61228549  0.         ...  0.          0.\n",
      "   0.        ]\n",
      " [-1.68338669 -0.0499742  31.06365461 ...  0.          0.\n",
      "   0.        ]\n",
      " ...\n",
      " [-1.11699266 -0.88281778 -1.4866125  ...  1.55653848  0.\n",
      "   0.        ]\n",
      " [ 1.01698731 -1.47509917 -1.15280074 ...  0.06275709  0.71329249\n",
      "   0.        ]\n",
      " [ 1.10579814  0.13647476  1.45343039 ...  1.55211422 -0.06739958\n",
      "   0.7745978 ]]\n"
     ]
    }
   ],
   "source": [
    "A = np.random.normal(size=(1000,1000))\n",
    "B = np.matmul(A.T,A)\n",
    "%time C = np.linalg.cholesky(B)\n",
    "print(C.shape)\n",
    "works=np.allclose(np.matmul(C,C.T), B)\n",
    "print(f'{works = }')\n",
    "print(np.linalg.slogdet(B))\n",
    "print(np.linalg.slogdet(C)[1]*2)\n",
    "print(C)"
   ],
   "metadata": {
    "collapsed": false,
    "pycharm": {
     "name": "#%%\n"
    }
   }
  },
  {
   "cell_type": "code",
   "execution_count": 47,
   "outputs": [],
   "source": [
    "m = Manifold(302)"
   ],
   "metadata": {
    "collapsed": false,
    "pycharm": {
     "name": "#%%\n"
    }
   }
  },
  {
   "cell_type": "code",
   "execution_count": 49,
   "outputs": [
    {
     "name": "stdout",
     "output_type": "stream",
     "text": [
      "CPU times: total: 15.6 ms\n",
      "Wall time: 14.6 ms\n"
     ]
    }
   ],
   "source": [
    "%time m.random_update(1, [\"gravity\", \"spinor_free\"])"
   ],
   "metadata": {
    "collapsed": false,
    "pycharm": {
     "name": "#%%\n"
    }
   }
  },
  {
   "cell_type": "code",
   "execution_count": null,
   "outputs": [],
   "source": [],
   "metadata": {
    "collapsed": false,
    "pycharm": {
     "name": "#%%\n"
    }
   }
  }
 ],
 "metadata": {
  "kernelspec": {
   "display_name": "Python 3",
   "language": "python",
   "name": "python3"
  },
  "language_info": {
   "codemirror_mode": {
    "name": "ipython",
    "version": 2
   },
   "file_extension": ".py",
   "mimetype": "text/x-python",
   "name": "python",
   "nbconvert_exporter": "python",
   "pygments_lexer": "ipython2",
   "version": "2.7.6"
  }
 },
 "nbformat": 4,
 "nbformat_minor": 0
}